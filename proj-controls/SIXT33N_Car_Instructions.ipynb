{
 "cells": [
  {
   "cell_type": "markdown",
   "metadata": {},
   "source": [
    "# SIXT33N Car Instructions\n",
    "\n",
    "If you can read Mandarin, go ahead and try to build the car using the instructions in the box. However, if you are Mandarin illiterate (like me), follow the instructions below."
   ]
  },
  {
   "cell_type": "markdown",
   "metadata": {},
   "source": [
    "## Car Assembly\n",
    "\n",
    "Start with the motors. Screw the rectangular metal piece to the motor using the long screws and nuts as shown below. If you look at the white plastic part in the head of the motor, one side of it is circular while the other is flat. There are also two copper tabs (circled in red) that you can use to help orrient the motor. The circular side should face the wheel, so attach the metal piece to the flat side. Note the two screw holes in the top of the metal piece - you will need two motors that are mirrored so you can have a left and a right wheel.\n",
    "<br/><br/>\n",
    "<center>\n",
    "<img src=\"http://inst.eecs.berkeley.edu/~ee16b/fa15/lab_pics/proj-car-1.jpg\">\n",
    "<img \"width=500px\" src=\"Images/proj-car-2.png\">\n",
    "</center>\n",
    "<br/><br/>\n",
    "Solder two wires to the motor as shown below. The colors do not really matter - if they are reversed we can switch them in the circuit.\n",
    "<br/><br/>\n",
    "<center>\n",
    "<img src=\"http://inst.eecs.berkeley.edu/~ee16b/fa15/lab_pics/proj-car-3.jpg\">\n",
    "</center>\n",
    "<br/><br/>\n",
    "Attach the wheel encoder disk and the wheel as shown below. Make sure to remove the paper sticker (yes, it does come off) before you attach it to the wheels. This will keep it from peeling later at interfering with the encoders.\n",
    "<br/><br/>\n",
    "<center>\n",
    "<img src=\"http://inst.eecs.berkeley.edu/~ee16b/fa15/lab_pics/proj-car-4.jpg\">\n",
    "</center>\n",
    "<br/><br/>\n",
    "Screw the motor to the body of the car using 2 small screws. Ripping the paper sticker away from the body is optional.\n",
    "<br/><br/>\n",
    "<center>\n",
    "<img src=\"http://inst.eecs.berkeley.edu/~ee16b/fa15/lab_pics/proj-car-5.jpg\">\n",
    "</center>\n",
    "<br/><br/>\n",
    "Repeat the previous steps for the other wheel.\n",
    "<br/><br/>\n",
    "<center>\n",
    "<img src=\"http://inst.eecs.berkeley.edu/~ee16b/fa15/lab_pics/proj-car-6.jpg\">\n",
    "</center>\n",
    "<br/><br/>\n",
    "Attach the front wheel using 4 small screws and nuts. You can use the tips of the wire cutters at your bench as pliers to hold the nuts while you tighten the screws with the screwdriver.\n",
    "<br/><br/>\n",
    "<center>\n",
    "<img src=\"http://inst.eecs.berkeley.edu/~ee16b/fa15/lab_pics/proj-car-7.jpg\">\n",
    "<img src=\"http://inst.eecs.berkeley.edu/~ee16b/fa15/lab_pics/proj-car-8.jpg\">\n",
    "</center>"
   ]
  },
  {
   "cell_type": "markdown",
   "metadata": {},
   "source": [
    "## Wheel Encoder & Photointerrupter\n",
    "\n",
    "Put the photointerrupter modules in their slots as shown in the images below. You will attach the photointerrupter pins to your Launchpad later, but set aside 3 male-female jumper wires for each photointerrupter.\n",
    "<br/><br/>\n",
    "<center>\n",
    "<img src=\"http://inst.eecs.berkeley.edu/~ee16b/sp16/lab_pics/proj-car-encoder1.jpg\">\n",
    "<img src=\"http://inst.eecs.berkeley.edu/~ee16b/sp16/lab_pics/proj-car-encoder2.jpg\">\n",
    "</center>"
   ]
  },
  {
   "cell_type": "markdown",
   "metadata": {},
   "source": [
    "## YOU'RE DONE! \n",
    "Your mobile platform is ready to be embedded with much goodness!"
   ]
  }
 ],
 "metadata": {
  "kernelspec": {
   "display_name": "Python 3",
   "language": "python",
   "name": "python3"
  },
  "language_info": {
   "codemirror_mode": {
    "name": "ipython",
    "version": 3
   },
   "file_extension": ".py",
   "mimetype": "text/x-python",
   "name": "python",
   "nbconvert_exporter": "python",
   "pygments_lexer": "ipython3",
   "version": "3.4.4"
  }
 },
 "nbformat": 4,
 "nbformat_minor": 0
}
